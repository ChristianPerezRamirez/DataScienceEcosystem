{
 "cells": [
  {
   "cell_type": "code",
   "execution_count": null,
   "id": "754af050",
   "metadata": {},
   "outputs": [],
   "source": [
    "## Exercise 2: Create markdown cell with title of the notebook"
   ]
  },
  {
   "cell_type": "markdown",
   "id": "4bec06f3",
   "metadata": {},
   "source": [
    "# Data Science Tools and Ecosystem"
   ]
  },
  {
   "cell_type": "code",
   "execution_count": 1,
   "id": "7e638c42",
   "metadata": {},
   "outputs": [],
   "source": [
    "#Exercise 3 - Create a markdown cell for an introduction\n",
    "\n",
    "#Write an introductory sentence about the notebook such as the follows:"
   ]
  },
  {
   "cell_type": "markdown",
   "id": "0f3cad2f",
   "metadata": {},
   "source": [
    "In this notebook, Data Science Tools and Ecosystem are summarized."
   ]
  },
  {
   "cell_type": "markdown",
   "id": "7d145643",
   "metadata": {},
   "source": [
    "**Objectives:**\n",
    "* Common used libraries in Data Science\n",
    "* Popular languages for Data Science\n",
    "* Data Science Tools\n",
    "* Aritmetic Expressions"
   ]
  },
  {
   "cell_type": "code",
   "execution_count": 2,
   "id": "5b7963b9",
   "metadata": {},
   "outputs": [],
   "source": [
    "#Exercise 4 - Create a markdown cell to list data science languages\n",
    "\n",
    "#Start the cell with an overview line such as:"
   ]
  },
  {
   "cell_type": "markdown",
   "id": "a5f0137a",
   "metadata": {},
   "source": [
    "Some of the popular languages that Data Scientists use are:\n",
    "1. SQL\n",
    "2. Python\n",
    "3. R"
   ]
  },
  {
   "cell_type": "code",
   "execution_count": 3,
   "id": "0672b743",
   "metadata": {},
   "outputs": [],
   "source": [
    "#Exercise 5 - Create a markdown cell to list data science libraries\n",
    "\n",
    "#Add an overview line to the cell like:"
   ]
  },
  {
   "cell_type": "markdown",
   "id": "cf0d2b3e",
   "metadata": {},
   "source": [
    "Some of the commonly used libraries used by Data Scientists include:\n",
    "1. Pandas\n",
    "2. Numpy\n",
    "3. SciPy"
   ]
  },
  {
   "cell_type": "code",
   "execution_count": 4,
   "id": "40a53b4a",
   "metadata": {},
   "outputs": [],
   "source": [
    "#Exercise 6 - Create a markdown cell with a table of Data Science tools\n",
    "\n",
    "#Create a single column table in this cell with the first row containing the header Data Science Tools. \n",
    "#The subsequent three rows in the table should indicate three development environment open source tools used in data science."
   ]
  },
  {
   "cell_type": "markdown",
   "id": "bc2c22af",
   "metadata": {},
   "source": [
    "|Data Science Tools|\n",
    "|------------------|\n",
    "|Python Lab        |\n",
    "|MongoDB           |\n",
    "|Google Colab      |"
   ]
  },
  {
   "cell_type": "code",
   "execution_count": 6,
   "id": "a2af38d9",
   "metadata": {},
   "outputs": [],
   "source": [
    "#Exercise 7 - Create a markdown cell introducing arithmetic expression examples\n",
    "\n",
    "#Add a line in this cell with H3 style heading with text like:"
   ]
  },
  {
   "cell_type": "markdown",
   "id": "e20d86fc",
   "metadata": {},
   "source": [
    "### Below are a few examples of evaluating arithmetic expressions in Python"
   ]
  },
  {
   "cell_type": "code",
   "execution_count": 7,
   "id": "79141484",
   "metadata": {},
   "outputs": [],
   "source": [
    "#Exercise 8 - Create a code cell to multiply and add numbers\n",
    "\n",
    "#In this code cell evaluate the expression (3*4)+5.\n",
    "#Insert a comment line before the expression to explain the operation e.g.  \n",
    "#This a simple arithmetic expression to mutiply then add integers."
   ]
  },
  {
   "cell_type": "code",
   "execution_count": 12,
   "id": "bcde4c3f",
   "metadata": {},
   "outputs": [
    {
     "data": {
      "text/plain": [
       "17"
      ]
     },
     "execution_count": 12,
     "metadata": {},
     "output_type": "execute_result"
    }
   ],
   "source": [
    "#This a simple arithmetic expression to mutiply then add integers\n",
    "(3*4)+5"
   ]
  },
  {
   "cell_type": "code",
   "execution_count": 8,
   "id": "a9cb244b",
   "metadata": {},
   "outputs": [
    {
     "data": {
      "text/plain": [
       "17"
      ]
     },
     "execution_count": 8,
     "metadata": {},
     "output_type": "execute_result"
    }
   ],
   "source": []
  },
  {
   "cell_type": "code",
   "execution_count": 10,
   "id": "5e366718",
   "metadata": {},
   "outputs": [],
   "source": [
    "#Exercise 9 - Create a code cell to convert minutes to hours\n",
    "\n",
    "#In this code cell write an expression that converts 200 minutes into hours.\n",
    "#Insert a comment line before the expression to explain the operation e.g. \n",
    "#This will convert 200 minutes to hours by diving by 60."
   ]
  },
  {
   "cell_type": "code",
   "execution_count": 11,
   "id": "e7ed54c5",
   "metadata": {},
   "outputs": [
    {
     "data": {
      "text/plain": [
       "3.3333333333333335"
      ]
     },
     "execution_count": 11,
     "metadata": {},
     "output_type": "execute_result"
    }
   ],
   "source": [
    "#This will convert 200 minutes to hours by diving by 60\n",
    "200/60"
   ]
  },
  {
   "cell_type": "code",
   "execution_count": 13,
   "id": "497cae91",
   "metadata": {},
   "outputs": [],
   "source": [
    "#Exercise 10 - Insert a markdown cell to list Objectives\n",
    "\n",
    "#Below the introduction cell created in Exercise 3, insert a new markdown cell to list \n",
    "#the objectives that this notebook covered (i.e. some of the key takeaways from the course). \n",
    "#In this new cell start with an introductory line titled: Objectives: in bold font. \n",
    "#Then using an unordered list (bullets) indicate 3 to 5 items covered in this notebook, \n",
    "#such as List popular languages for Data Science."
   ]
  },
  {
   "cell_type": "markdown",
   "id": "a8bc8434",
   "metadata": {},
   "source": [
    "**Objectives:**\n",
    "* Common used libraries in Data Science\n",
    "* Popular languages for Data Science\n",
    "* Data Science Tools\n",
    "* Aritmetic Expressions"
   ]
  },
  {
   "cell_type": "code",
   "execution_count": 14,
   "id": "8d1142c7",
   "metadata": {},
   "outputs": [],
   "source": [
    "#Exercise 11 - Create a markdown cell to indicate the Author's name\n",
    "\n",
    "#In this markdown cell markdown cell include the following text Author in H2 style heading. \n",
    "#Include your name as regular text below the word Author."
   ]
  },
  {
   "cell_type": "markdown",
   "id": "c7d8ade6",
   "metadata": {},
   "source": [
    "## Author\n",
    "Christian Perez Ramirez"
   ]
  },
  {
   "cell_type": "code",
   "execution_count": null,
   "id": "bc9219de",
   "metadata": {},
   "outputs": [],
   "source": []
  }
 ],
 "metadata": {
  "kernelspec": {
   "display_name": "Python 3",
   "language": "python",
   "name": "python3"
  },
  "language_info": {
   "codemirror_mode": {
    "name": "ipython",
    "version": 3
   },
   "file_extension": ".py",
   "mimetype": "text/x-python",
   "name": "python",
   "nbconvert_exporter": "python",
   "pygments_lexer": "ipython3",
   "version": "3.8.8"
  }
 },
 "nbformat": 4,
 "nbformat_minor": 5
}
